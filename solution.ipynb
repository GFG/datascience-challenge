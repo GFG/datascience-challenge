{
 "metadata": {
  "language_info": {
   "codemirror_mode": {
    "name": "ipython",
    "version": 3
   },
   "file_extension": ".py",
   "mimetype": "text/x-python",
   "name": "python",
   "nbconvert_exporter": "python",
   "pygments_lexer": "ipython3",
   "version": "3.8.5"
  },
  "orig_nbformat": 2,
  "kernelspec": {
   "name": "python385jvsc74a57bd0082e9a3bcad0a290d0001e938aa60b99250c6c2ef33a923c00b70f9826caf4b7",
   "display_name": "Python 3.8.5 64-bit ('3.8')"
  }
 },
 "nbformat": 4,
 "nbformat_minor": 2,
 "cells": [
  {
   "cell_type": "code",
   "execution_count": 1,
   "metadata": {},
   "outputs": [],
   "source": [
    "import pandas as pd\n",
    "import numpy as np\n",
    "import json"
   ]
  },
  {
   "cell_type": "code",
   "execution_count": 2,
   "metadata": {},
   "outputs": [],
   "source": [
    "import sklearn\n",
    "from sklearn.cluster import KMeans \n",
    "from sklearn.preprocessing import StandardScaler\n",
    "from sklearn.metrics import silhouette_score"
   ]
  },
  {
   "cell_type": "code",
   "execution_count": 3,
   "metadata": {},
   "outputs": [],
   "source": [
    "from sklearn.tree import DecisionTreeClassifier \n",
    "from sklearn.model_selection import train_test_split \n",
    "from sklearn import metrics \n",
    "from sklearn import tree"
   ]
  },
  {
   "source": [
    "1. Load data"
   ],
   "cell_type": "markdown",
   "metadata": {}
  },
  {
   "cell_type": "code",
   "execution_count": 4,
   "metadata": {},
   "outputs": [],
   "source": [
    "with open('data.json') as f:\n",
    "    data = json.load(f)\n",
    "lst = json.loads(data[0])\n",
    "df = pd.DataFrame(lst)"
   ]
  },
  {
   "cell_type": "code",
   "execution_count": 5,
   "metadata": {},
   "outputs": [
    {
     "output_type": "execute_result",
     "data": {
      "text/plain": [
       "days_since_first_order      0\n",
       "days_since_last_order       0\n",
       "is_newsletter_subscriber    0\n",
       "orders                      0\n",
       "items                       0\n",
       "returns                     0\n",
       "different_addresses         0\n",
       "shipping_addresses          0\n",
       "devices                     0\n",
       "vouchers                    0\n",
       "cc_payments                 0\n",
       "paypal_payments             0\n",
       "afterpay_payments           0\n",
       "female_items                0\n",
       "male_items                  0\n",
       "unisex_items                0\n",
       "wapp_items                  0\n",
       "wftw_items                  0\n",
       "mapp_items                  0\n",
       "wacc_items                  0\n",
       "macc_items                  0\n",
       "mftw_items                  0\n",
       "sprt_items                  0\n",
       "msite_orders                0\n",
       "desktop_orders              0\n",
       "android_orders              0\n",
       "ios_orders                  0\n",
       "work_orders                 0\n",
       "home_orders                 0\n",
       "parcelpoint_orders          0\n",
       "coupon_discount_applied     0\n",
       "revenue                     0\n",
       "customer_id                 0\n",
       "dtype: int64"
      ]
     },
     "metadata": {},
     "execution_count": 5
    }
   ],
   "source": [
    "df.isnull().sum() #no missing data"
   ]
  },
  {
   "cell_type": "code",
   "execution_count": 6,
   "metadata": {},
   "outputs": [],
   "source": [
    "#convert categorical feature to binary \n",
    "df['is_newsletter_subscriber'] = df['is_newsletter_subscriber'].map({\"Y\":1, \"N\":0})"
   ]
  },
  {
   "source": [
    "2. Clean"
   ],
   "cell_type": "markdown",
   "metadata": {}
  },
  {
   "cell_type": "code",
   "execution_count": 7,
   "metadata": {},
   "outputs": [
    {
     "output_type": "execute_result",
     "data": {
      "text/plain": [
       "       days_since_first_order  days_since_last_order  \\\n",
       "count           191287.000000          191287.000000   \n",
       "mean              2325.415344             862.390832   \n",
       "std                382.012579             832.876737   \n",
       "min                  3.000000               0.000000   \n",
       "25%               2271.000000              92.000000   \n",
       "50%               2414.000000             544.000000   \n",
       "75%               2526.000000            1659.000000   \n",
       "max               2813.000000            2329.000000   \n",
       "\n",
       "       is_newsletter_subscriber         orders          items        returns  \\\n",
       "count             191287.000000  191287.000000  191287.000000  191287.000000   \n",
       "mean                   0.661096      10.841887      24.544668       7.075745   \n",
       "std                    0.473339      19.191299      50.868840      25.923825   \n",
       "min                    0.000000       1.000000       1.000000       0.000000   \n",
       "25%                    0.000000       2.000000       3.000000       0.000000   \n",
       "50%                    1.000000       4.000000       8.000000       1.000000   \n",
       "75%                    1.000000      12.000000      25.000000       4.000000   \n",
       "max                    1.000000    1289.000000    3020.000000    2022.000000   \n",
       "\n",
       "       different_addresses  shipping_addresses        devices       vouchers  \\\n",
       "count        191287.000000       191287.000000  191287.000000  191287.000000   \n",
       "mean              1.258392            2.412438       1.645747       3.394993   \n",
       "std               8.920020            4.493934       0.734939       7.428651   \n",
       "min               0.000000            1.000000       1.000000       0.000000   \n",
       "25%               0.000000            1.000000       1.000000       0.000000   \n",
       "50%               0.000000            2.000000       1.000000       1.000000   \n",
       "75%               0.000000            3.000000       2.000000       4.000000   \n",
       "max            1996.000000         1122.000000       4.000000    1135.000000   \n",
       "\n",
       "       ...   msite_orders  desktop_orders  android_orders     ios_orders  \\\n",
       "count  ...  191287.000000   191287.000000   191287.000000  191287.000000   \n",
       "mean   ...       2.732941        5.700529        0.227517       2.180901   \n",
       "std    ...       7.253788       11.975780        2.096664       8.206619   \n",
       "min    ...       0.000000        0.000000        0.000000       0.000000   \n",
       "25%    ...       0.000000        1.000000        0.000000       0.000000   \n",
       "50%    ...       1.000000        2.000000        0.000000       0.000000   \n",
       "75%    ...       3.000000        6.000000        0.000000       0.000000   \n",
       "max    ...     373.000000     1275.000000      244.000000     357.000000   \n",
       "\n",
       "         work_orders    home_orders  parcelpoint_orders  \\\n",
       "count  191287.000000  191287.000000       191287.000000   \n",
       "mean        1.203485       6.038685            0.101471   \n",
       "std         5.061593      12.875926            1.425184   \n",
       "min         0.000000       0.000000            0.000000   \n",
       "25%         0.000000       0.000000            0.000000   \n",
       "50%         0.000000       2.000000            0.000000   \n",
       "75%         0.000000       6.000000            0.000000   \n",
       "max       223.000000     496.000000          290.000000   \n",
       "\n",
       "       coupon_discount_applied        revenue   customer_id  \n",
       "count             1.912870e+05  191287.000000  1.912870e+05  \n",
       "mean              1.321704e+03    1515.276901  3.387436e+09  \n",
       "std               3.905356e+04    3508.433432  2.094103e+08  \n",
       "min              -1.559784e+02      -1.130000  3.016870e+09  \n",
       "25%               4.800000e-03     140.840000  3.202564e+09  \n",
       "50%               5.520000e-02     443.100000  3.398475e+09  \n",
       "75%               1.466000e-01    1477.225000  3.567305e+09  \n",
       "max               5.798000e+06  205655.020000  3.801194e+09  \n",
       "\n",
       "[8 rows x 33 columns]"
      ],
      "text/html": "<div>\n<style scoped>\n    .dataframe tbody tr th:only-of-type {\n        vertical-align: middle;\n    }\n\n    .dataframe tbody tr th {\n        vertical-align: top;\n    }\n\n    .dataframe thead th {\n        text-align: right;\n    }\n</style>\n<table border=\"1\" class=\"dataframe\">\n  <thead>\n    <tr style=\"text-align: right;\">\n      <th></th>\n      <th>days_since_first_order</th>\n      <th>days_since_last_order</th>\n      <th>is_newsletter_subscriber</th>\n      <th>orders</th>\n      <th>items</th>\n      <th>returns</th>\n      <th>different_addresses</th>\n      <th>shipping_addresses</th>\n      <th>devices</th>\n      <th>vouchers</th>\n      <th>...</th>\n      <th>msite_orders</th>\n      <th>desktop_orders</th>\n      <th>android_orders</th>\n      <th>ios_orders</th>\n      <th>work_orders</th>\n      <th>home_orders</th>\n      <th>parcelpoint_orders</th>\n      <th>coupon_discount_applied</th>\n      <th>revenue</th>\n      <th>customer_id</th>\n    </tr>\n  </thead>\n  <tbody>\n    <tr>\n      <th>count</th>\n      <td>191287.000000</td>\n      <td>191287.000000</td>\n      <td>191287.000000</td>\n      <td>191287.000000</td>\n      <td>191287.000000</td>\n      <td>191287.000000</td>\n      <td>191287.000000</td>\n      <td>191287.000000</td>\n      <td>191287.000000</td>\n      <td>191287.000000</td>\n      <td>...</td>\n      <td>191287.000000</td>\n      <td>191287.000000</td>\n      <td>191287.000000</td>\n      <td>191287.000000</td>\n      <td>191287.000000</td>\n      <td>191287.000000</td>\n      <td>191287.000000</td>\n      <td>1.912870e+05</td>\n      <td>191287.000000</td>\n      <td>1.912870e+05</td>\n    </tr>\n    <tr>\n      <th>mean</th>\n      <td>2325.415344</td>\n      <td>862.390832</td>\n      <td>0.661096</td>\n      <td>10.841887</td>\n      <td>24.544668</td>\n      <td>7.075745</td>\n      <td>1.258392</td>\n      <td>2.412438</td>\n      <td>1.645747</td>\n      <td>3.394993</td>\n      <td>...</td>\n      <td>2.732941</td>\n      <td>5.700529</td>\n      <td>0.227517</td>\n      <td>2.180901</td>\n      <td>1.203485</td>\n      <td>6.038685</td>\n      <td>0.101471</td>\n      <td>1.321704e+03</td>\n      <td>1515.276901</td>\n      <td>3.387436e+09</td>\n    </tr>\n    <tr>\n      <th>std</th>\n      <td>382.012579</td>\n      <td>832.876737</td>\n      <td>0.473339</td>\n      <td>19.191299</td>\n      <td>50.868840</td>\n      <td>25.923825</td>\n      <td>8.920020</td>\n      <td>4.493934</td>\n      <td>0.734939</td>\n      <td>7.428651</td>\n      <td>...</td>\n      <td>7.253788</td>\n      <td>11.975780</td>\n      <td>2.096664</td>\n      <td>8.206619</td>\n      <td>5.061593</td>\n      <td>12.875926</td>\n      <td>1.425184</td>\n      <td>3.905356e+04</td>\n      <td>3508.433432</td>\n      <td>2.094103e+08</td>\n    </tr>\n    <tr>\n      <th>min</th>\n      <td>3.000000</td>\n      <td>0.000000</td>\n      <td>0.000000</td>\n      <td>1.000000</td>\n      <td>1.000000</td>\n      <td>0.000000</td>\n      <td>0.000000</td>\n      <td>1.000000</td>\n      <td>1.000000</td>\n      <td>0.000000</td>\n      <td>...</td>\n      <td>0.000000</td>\n      <td>0.000000</td>\n      <td>0.000000</td>\n      <td>0.000000</td>\n      <td>0.000000</td>\n      <td>0.000000</td>\n      <td>0.000000</td>\n      <td>-1.559784e+02</td>\n      <td>-1.130000</td>\n      <td>3.016870e+09</td>\n    </tr>\n    <tr>\n      <th>25%</th>\n      <td>2271.000000</td>\n      <td>92.000000</td>\n      <td>0.000000</td>\n      <td>2.000000</td>\n      <td>3.000000</td>\n      <td>0.000000</td>\n      <td>0.000000</td>\n      <td>1.000000</td>\n      <td>1.000000</td>\n      <td>0.000000</td>\n      <td>...</td>\n      <td>0.000000</td>\n      <td>1.000000</td>\n      <td>0.000000</td>\n      <td>0.000000</td>\n      <td>0.000000</td>\n      <td>0.000000</td>\n      <td>0.000000</td>\n      <td>4.800000e-03</td>\n      <td>140.840000</td>\n      <td>3.202564e+09</td>\n    </tr>\n    <tr>\n      <th>50%</th>\n      <td>2414.000000</td>\n      <td>544.000000</td>\n      <td>1.000000</td>\n      <td>4.000000</td>\n      <td>8.000000</td>\n      <td>1.000000</td>\n      <td>0.000000</td>\n      <td>2.000000</td>\n      <td>1.000000</td>\n      <td>1.000000</td>\n      <td>...</td>\n      <td>1.000000</td>\n      <td>2.000000</td>\n      <td>0.000000</td>\n      <td>0.000000</td>\n      <td>0.000000</td>\n      <td>2.000000</td>\n      <td>0.000000</td>\n      <td>5.520000e-02</td>\n      <td>443.100000</td>\n      <td>3.398475e+09</td>\n    </tr>\n    <tr>\n      <th>75%</th>\n      <td>2526.000000</td>\n      <td>1659.000000</td>\n      <td>1.000000</td>\n      <td>12.000000</td>\n      <td>25.000000</td>\n      <td>4.000000</td>\n      <td>0.000000</td>\n      <td>3.000000</td>\n      <td>2.000000</td>\n      <td>4.000000</td>\n      <td>...</td>\n      <td>3.000000</td>\n      <td>6.000000</td>\n      <td>0.000000</td>\n      <td>0.000000</td>\n      <td>0.000000</td>\n      <td>6.000000</td>\n      <td>0.000000</td>\n      <td>1.466000e-01</td>\n      <td>1477.225000</td>\n      <td>3.567305e+09</td>\n    </tr>\n    <tr>\n      <th>max</th>\n      <td>2813.000000</td>\n      <td>2329.000000</td>\n      <td>1.000000</td>\n      <td>1289.000000</td>\n      <td>3020.000000</td>\n      <td>2022.000000</td>\n      <td>1996.000000</td>\n      <td>1122.000000</td>\n      <td>4.000000</td>\n      <td>1135.000000</td>\n      <td>...</td>\n      <td>373.000000</td>\n      <td>1275.000000</td>\n      <td>244.000000</td>\n      <td>357.000000</td>\n      <td>223.000000</td>\n      <td>496.000000</td>\n      <td>290.000000</td>\n      <td>5.798000e+06</td>\n      <td>205655.020000</td>\n      <td>3.801194e+09</td>\n    </tr>\n  </tbody>\n</table>\n<p>8 rows × 33 columns</p>\n</div>"
     },
     "metadata": {},
     "execution_count": 7
    }
   ],
   "source": [
    "df.describe()"
   ]
  },
  {
   "cell_type": "code",
   "execution_count": 8,
   "metadata": {},
   "outputs": [],
   "source": [
    "# swap coupon_discount_applied with revenue when revenue is equal to 0\n",
    "m = df['revenue']==0\n",
    "mp = {'coupon_discount_applied':'revenue','revenue':'coupon_discount_applied'}\n",
    "df.update(df.loc[m].rename(mp,axis=1))"
   ]
  },
  {
   "cell_type": "code",
   "execution_count": 9,
   "metadata": {},
   "outputs": [],
   "source": [
    "df['coupon_discount_applied'] = np.where(df.coupon_discount_applied>1,df.coupon_discount_applied/100,df.coupon_discount_applied)"
   ]
  },
  {
   "cell_type": "code",
   "execution_count": 10,
   "metadata": {},
   "outputs": [],
   "source": [
    "# Remove error coupon_discount_applied : Remove 12 rows\n",
    "df = df[(df['coupon_discount_applied']>=0)&(df['coupon_discount_applied']<1)]"
   ]
  },
  {
   "cell_type": "code",
   "execution_count": 11,
   "metadata": {},
   "outputs": [],
   "source": [
    "df_copy = df.copy()"
   ]
  },
  {
   "source": [
    "3. Engineer features"
   ],
   "cell_type": "markdown",
   "metadata": {}
  },
  {
   "cell_type": "code",
   "execution_count": 12,
   "metadata": {},
   "outputs": [],
   "source": [
    "df['shopping_age'] = df['days_since_first_order'] - df['days_since_last_order']\n",
    "\n",
    "df['average_items'] = df['items']/df['orders']\n",
    "df['return_rate'] = df['returns']/df['orders']\n",
    "df['different_addresses_rate'] = df['different_addresses']/df['orders']\n",
    "df['shipping_addresses_rate'] = df['shipping_addresses']/df['orders']\n",
    "df['devices_rate'] = df['devices']/df['orders']\n",
    "df['vouchers_rate'] = df['vouchers']/df['orders']\n",
    "df['cc_payment_rate'] = df['cc_payments']/df['orders']\n",
    "df['paypal_payments_rate'] = df['paypal_payments']/df['orders']\n",
    "df['afterpay_payments_rate'] = df['afterpay_payments']/df['orders']\n",
    "\n",
    "df['female_items_rate'] = df['female_items']/df['items']\n",
    "df['male_items_rate'] = df['male_items']/df['items']\n",
    "df['unisex_items_rate'] = df['unisex_items']/df['items']\n",
    "\n",
    "df['wapp_items_rate'] = df['wapp_items']/df['items']\n",
    "df['wftw_items_rate'] = df['wftw_items']/df['items']\n",
    "df['mapp_items_rate'] = df['mapp_items']/df['items']\n",
    "df['mftw_items_rate'] = df['mftw_items']/df['items']\n",
    "df['wacc_items_rate'] = df['wacc_items']/df['items']\n",
    "df['macc_items_rate'] = df['macc_items']/df['items']\n",
    "df['sprt_items_rate'] = df['sprt_items']/df['items']\n",
    "\n",
    "df['msite_orders_rate'] = df['msite_orders']/df['orders']\n",
    "df['desktop_orders_rate'] = df['desktop_orders']/df['orders']\n",
    "df['android_orders_rate'] = df['android_orders']/df['orders']\n",
    "df['ios_orders_rate'] = df['ios_orders']/df['orders']\n",
    "\n",
    "df['work_orders_rate'] = df['work_orders']/df['orders']\n",
    "df['home_orders_rate'] = df['home_orders']/df['orders']\n",
    "df['parcelpoint_orders_rate'] = df['parcelpoint_orders']/df['orders']\n",
    "\n",
    "df['aov'] = df['revenue']/df['orders']"
   ]
  },
  {
   "cell_type": "code",
   "execution_count": 13,
   "metadata": {},
   "outputs": [],
   "source": [
    "df_engineer = df.iloc[:,33:]\n",
    "df_asis = df[['customer_id','is_newsletter_subscriber','days_since_first_order', 'days_since_last_order', 'coupon_discount_applied']]\n",
    "frames = [df_asis,df_engineer]\n",
    "df_features = pd.concat(frames,axis=1,join='inner')"
   ]
  },
  {
   "source": [
    "3.1 Scale feature"
   ],
   "cell_type": "markdown",
   "metadata": {}
  },
  {
   "cell_type": "code",
   "execution_count": 14,
   "metadata": {},
   "outputs": [],
   "source": [
    "#keep categorical feature\n",
    "df_keep = df_features[['customer_id','is_newsletter_subscriber']]"
   ]
  },
  {
   "cell_type": "code",
   "execution_count": 15,
   "metadata": {},
   "outputs": [],
   "source": [
    "#rescale continous features\n",
    "df_to_scale = df_features.iloc[:,2:]\n",
    "scaler = StandardScaler()\n",
    "col = df_to_scale.columns\n",
    "df_to_scale = pd.DataFrame(scaler.fit_transform(df_to_scale))\n",
    "df_to_scale.columns = col"
   ]
  },
  {
   "cell_type": "code",
   "execution_count": 16,
   "metadata": {},
   "outputs": [],
   "source": [
    "df_engineered = pd.concat([df_keep,df_to_scale], axis=1, join='inner')"
   ]
  },
  {
   "cell_type": "code",
   "execution_count": 17,
   "metadata": {},
   "outputs": [],
   "source": [
    "customer_id = df_engineered[['customer_id']]\n",
    "x = df_engineered.drop(['customer_id'],axis=1)"
   ]
  },
  {
   "source": [
    "4. Clustering"
   ],
   "cell_type": "markdown",
   "metadata": {}
  },
  {
   "source": [
    "4.1. Select optimal number of cluster k"
   ],
   "cell_type": "markdown",
   "metadata": {}
  },
  {
   "cell_type": "code",
   "execution_count": 18,
   "metadata": {},
   "outputs": [
    {
     "output_type": "stream",
     "name": "stdout",
     "text": [
      "For n_clusters = 2, Kmeans silhouette score is 0.21125998709287902)\n",
      "For n_clusters = 3, Kmeans silhouette score is 0.13733633778770388)\n",
      "For n_clusters = 4, Kmeans silhouette score is 0.14502409314837464)\n",
      "For n_clusters = 5, Kmeans silhouette score is 0.09269162766610581)\n",
      "For n_clusters = 6, Kmeans silhouette score is 0.09865562682778083)\n"
     ]
    }
   ],
   "source": [
    "for num_clusters in range(2,7):\n",
    "    clusterer = KMeans(n_clusters=num_clusters)\n",
    "    preds = clusterer.fit_predict(x)\n",
    "    centers = clusterer.cluster_centers_\n",
    "    score = silhouette_score (x, preds, metric='euclidean')\n",
    "    print (\"For n_clusters = {}, Kmeans silhouette score is {})\".format(num_clusters, score)) "
   ]
  },
  {
   "source": [
    "4.2. Cluster 2"
   ],
   "cell_type": "markdown",
   "metadata": {}
  },
  {
   "cell_type": "code",
   "execution_count": 19,
   "metadata": {},
   "outputs": [],
   "source": [
    "kmeans = KMeans(n_clusters=2)\n",
    "kmeans.fit(x)\n",
    "kmeans.cluster_centers_\n",
    "clusters = kmeans.predict(x)"
   ]
  },
  {
   "cell_type": "code",
   "execution_count": 20,
   "metadata": {},
   "outputs": [],
   "source": [
    "x[\"Cluster\"] = clusters"
   ]
  },
  {
   "source": [
    "5. Infer gender using Decision tree"
   ],
   "cell_type": "markdown",
   "metadata": {}
  },
  {
   "cell_type": "code",
   "execution_count": 21,
   "metadata": {},
   "outputs": [],
   "source": [
    "X = x.iloc[:,:-1]\n",
    "y = x.Cluster"
   ]
  },
  {
   "cell_type": "code",
   "execution_count": 22,
   "metadata": {},
   "outputs": [
    {
     "output_type": "stream",
     "name": "stdout",
     "text": [
      "Accuracy: 0.9891597971383259\n"
     ]
    }
   ],
   "source": [
    "X_train, X_test, y_train, y_test = train_test_split(X, y, test_size=0.3, random_state=1) \n",
    "clf = DecisionTreeClassifier(criterion=\"entropy\", max_depth=4)\n",
    "clf = clf.fit(X_train,y_train)\n",
    "y_pred = clf.predict(X_test)\n",
    "print(\"Accuracy:\",metrics.accuracy_score(y_test, y_pred)) #0.922428066017184"
   ]
  },
  {
   "cell_type": "code",
   "execution_count": 23,
   "metadata": {},
   "outputs": [
    {
     "output_type": "stream",
     "name": "stdout",
     "text": [
      "|--- feature_14 <= -0.63\n|   |--- feature_14 <= -1.07\n|   |   |--- feature_15 <= 0.68\n|   |   |   |--- feature_18 <= -0.20\n|   |   |   |   |--- class: 0\n|   |   |   |--- feature_18 >  -0.20\n|   |   |   |   |--- class: 0\n|   |   |--- feature_15 >  0.68\n|   |   |   |--- feature_14 <= -1.47\n|   |   |   |   |--- class: 0\n|   |   |   |--- feature_14 >  -1.47\n|   |   |   |   |--- class: 0\n|   |--- feature_14 >  -1.07\n|   |   |--- feature_2 <= -0.09\n|   |   |   |--- feature_15 <= 0.99\n|   |   |   |   |--- class: 1\n|   |   |   |--- feature_15 >  0.99\n|   |   |   |   |--- class: 0\n|   |   |--- feature_2 >  -0.09\n|   |   |   |--- feature_15 <= 0.78\n|   |   |   |   |--- class: 1\n|   |   |   |--- feature_15 >  0.78\n|   |   |   |   |--- class: 0\n|--- feature_14 >  -0.63\n|   |--- feature_15 <= 0.33\n|   |   |--- feature_23 <= 10.72\n|   |   |   |--- feature_22 <= 2.58\n|   |   |   |   |--- class: 1\n|   |   |   |--- feature_22 >  2.58\n|   |   |   |   |--- class: 1\n|   |   |--- feature_23 >  10.72\n|   |   |   |--- feature_2 <= 1.62\n|   |   |   |   |--- class: 1\n|   |   |   |--- feature_2 >  1.62\n|   |   |   |   |--- class: 0\n|   |--- feature_15 >  0.33\n|   |   |--- feature_2 <= 0.71\n|   |   |   |--- feature_8 <= 0.67\n|   |   |   |   |--- class: 1\n|   |   |   |--- feature_8 >  0.67\n|   |   |   |   |--- class: 1\n|   |   |--- feature_2 >  0.71\n|   |   |   |--- feature_8 <= 1.03\n|   |   |   |   |--- class: 1\n|   |   |   |--- feature_8 >  1.03\n|   |   |   |   |--- class: 1\n\n"
     ]
    }
   ],
   "source": [
    "text_representation = tree.export_text(clf)\n",
    "print(text_representation)"
   ]
  },
  {
   "cell_type": "code",
   "execution_count": 24,
   "metadata": {},
   "outputs": [
    {
     "output_type": "stream",
     "name": "stdout",
     "text": [
      "<class 'pandas.core.frame.DataFrame'>\nInt64Index: 191263 entries, 0 to 191274\nData columns (total 33 columns):\n #   Column                    Non-Null Count   Dtype  \n---  ------                    --------------   -----  \n 0   is_newsletter_subscriber  191263 non-null  float64\n 1   days_since_first_order    191263 non-null  float64\n 2   days_since_last_order     191263 non-null  float64\n 3   coupon_discount_applied   191263 non-null  float64\n 4   shopping_age              191263 non-null  float64\n 5   average_items             191263 non-null  float64\n 6   return_rate               191263 non-null  float64\n 7   different_addresses_rate  191263 non-null  float64\n 8   shipping_addresses_rate   191263 non-null  float64\n 9   devices_rate              191263 non-null  float64\n 10  vouchers_rate             191263 non-null  float64\n 11  cc_payment_rate           191263 non-null  float64\n 12  paypal_payments_rate      191263 non-null  float64\n 13  afterpay_payments_rate    191263 non-null  float64\n 14  female_items_rate         191263 non-null  float64\n 15  male_items_rate           191263 non-null  float64\n 16  unisex_items_rate         191263 non-null  float64\n 17  wapp_items_rate           191263 non-null  float64\n 18  wftw_items_rate           191263 non-null  float64\n 19  mapp_items_rate           191263 non-null  float64\n 20  mftw_items_rate           191263 non-null  float64\n 21  wacc_items_rate           191263 non-null  float64\n 22  macc_items_rate           191263 non-null  float64\n 23  sprt_items_rate           191263 non-null  float64\n 24  msite_orders_rate         191263 non-null  float64\n 25  desktop_orders_rate       191263 non-null  float64\n 26  android_orders_rate       191263 non-null  float64\n 27  ios_orders_rate           191263 non-null  float64\n 28  work_orders_rate          191263 non-null  float64\n 29  home_orders_rate          191263 non-null  float64\n 30  parcelpoint_orders_rate   191263 non-null  float64\n 31  aov                       191263 non-null  float64\n 32  Cluster                   191263 non-null  int32  \ndtypes: float64(32), int32(1)\nmemory usage: 48.9 MB\n"
     ]
    }
   ],
   "source": [
    "x.info()"
   ]
  },
  {
   "cell_type": "code",
   "execution_count": 31,
   "metadata": {},
   "outputs": [],
   "source": [
    "x['female_flag'] = np.where(x.Cluster==1, 1,0)"
   ]
  },
  {
   "source": [
    "5. Output"
   ],
   "cell_type": "markdown",
   "metadata": {}
  },
  {
   "cell_type": "code",
   "execution_count": 32,
   "metadata": {},
   "outputs": [],
   "source": [
    "output = pd.concat([x,customer_id],axis=1, join='inner')\n",
    "output = output[['customer_id','female_flag']]\n",
    "output.to_csv('output.csv',index=False)"
   ]
  }
 ]
}